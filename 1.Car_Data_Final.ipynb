{
 "cells": [
  {
   "cell_type": "code",
   "execution_count": 1,
   "id": "cb672736",
   "metadata": {
    "scrolled": true
   },
   "outputs": [],
   "source": [
    "import numpy as np\n",
    "import pandas as pd\n",
    "import matplotlib.pyplot as plt\n",
    "import seaborn as sns\n",
    "from sklearn.model_selection import cross_val_score,GridSearchCV\n",
    "%matplotlib inline"
   ]
  },
  {
   "cell_type": "code",
   "execution_count": 2,
   "id": "79471036",
   "metadata": {
    "scrolled": true
   },
   "outputs": [
    {
     "data": {
      "text/html": [
       "<div>\n",
       "<style scoped>\n",
       "    .dataframe tbody tr th:only-of-type {\n",
       "        vertical-align: middle;\n",
       "    }\n",
       "\n",
       "    .dataframe tbody tr th {\n",
       "        vertical-align: top;\n",
       "    }\n",
       "\n",
       "    .dataframe thead th {\n",
       "        text-align: right;\n",
       "    }\n",
       "</style>\n",
       "<table border=\"1\" class=\"dataframe\">\n",
       "  <thead>\n",
       "    <tr style=\"text-align: right;\">\n",
       "      <th></th>\n",
       "      <th>buying price</th>\n",
       "      <th>maintenance cost</th>\n",
       "      <th>number of doors</th>\n",
       "      <th>number of persons</th>\n",
       "      <th>lug_boot</th>\n",
       "      <th>safety</th>\n",
       "      <th>decision</th>\n",
       "    </tr>\n",
       "  </thead>\n",
       "  <tbody>\n",
       "    <tr>\n",
       "      <th>0</th>\n",
       "      <td>vhigh</td>\n",
       "      <td>vhigh</td>\n",
       "      <td>2</td>\n",
       "      <td>2</td>\n",
       "      <td>small</td>\n",
       "      <td>low</td>\n",
       "      <td>unacc</td>\n",
       "    </tr>\n",
       "    <tr>\n",
       "      <th>1</th>\n",
       "      <td>vhigh</td>\n",
       "      <td>vhigh</td>\n",
       "      <td>2</td>\n",
       "      <td>2</td>\n",
       "      <td>small</td>\n",
       "      <td>med</td>\n",
       "      <td>unacc</td>\n",
       "    </tr>\n",
       "    <tr>\n",
       "      <th>2</th>\n",
       "      <td>vhigh</td>\n",
       "      <td>vhigh</td>\n",
       "      <td>2</td>\n",
       "      <td>2</td>\n",
       "      <td>small</td>\n",
       "      <td>high</td>\n",
       "      <td>unacc</td>\n",
       "    </tr>\n",
       "    <tr>\n",
       "      <th>3</th>\n",
       "      <td>vhigh</td>\n",
       "      <td>vhigh</td>\n",
       "      <td>2</td>\n",
       "      <td>2</td>\n",
       "      <td>med</td>\n",
       "      <td>low</td>\n",
       "      <td>unacc</td>\n",
       "    </tr>\n",
       "    <tr>\n",
       "      <th>4</th>\n",
       "      <td>vhigh</td>\n",
       "      <td>vhigh</td>\n",
       "      <td>2</td>\n",
       "      <td>2</td>\n",
       "      <td>med</td>\n",
       "      <td>med</td>\n",
       "      <td>unacc</td>\n",
       "    </tr>\n",
       "  </tbody>\n",
       "</table>\n",
       "</div>"
      ],
      "text/plain": [
       "  buying price maintenance cost number of doors number of persons lug_boot  \\\n",
       "0        vhigh            vhigh               2                 2    small   \n",
       "1        vhigh            vhigh               2                 2    small   \n",
       "2        vhigh            vhigh               2                 2    small   \n",
       "3        vhigh            vhigh               2                 2      med   \n",
       "4        vhigh            vhigh               2                 2      med   \n",
       "\n",
       "  safety decision  \n",
       "0    low    unacc  \n",
       "1    med    unacc  \n",
       "2   high    unacc  \n",
       "3    low    unacc  \n",
       "4    med    unacc  "
      ]
     },
     "execution_count": 2,
     "metadata": {},
     "output_type": "execute_result"
    }
   ],
   "source": [
    "dataset = pd.read_csv(\"https://archive.ics.uci.edu/ml/machine-learning-databases/car/car.data\",\n",
    "                      header=None,\n",
    "                      names=[\"buying price\", \"maintenance cost\", \"number of doors\",\n",
    "                             \"number of persons\", \"lug_boot\", \"safety\", \"decision\"])\n",
    "dataset.head()"
   ]
  },
  {
   "cell_type": "markdown",
   "id": "1535b7f8",
   "metadata": {},
   "source": [
    "#  About Data:"
   ]
  },
  {
   "cell_type": "markdown",
   "id": "3aa008a2",
   "metadata": {},
   "source": [
    "- The data contains 1728 rows and 7 columns with descriptions as follows:\n",
    "    - buying price: Buying Level or Capacity of the customer (Very High:vhigh, High:high, Low:low, Medium:med)\n",
    "    - maintenance cost: Maintainence Level (Very High:vhigh, High:high, Low:low, Medium:med)\n",
    "    - number of doors: Number of doors in the car (2, 3, 4 and 5 or more)\n",
    "    - number of persons: Max number of persons can sit at a time(2,4 and more)\n",
    "    - lug_boot: Luggage Boot Size in the car (small, med, big)\n",
    "    - safety: Safety Level of Car (high, med, low)\n",
    "    - class: Unacceptable, Acceptable, VeryGood, Good\n",
    "- The data is a classic multi-class classification task with multiple classes of cars available as the final evaluation\n",
    "- The data does not have any missing values\n",
    "- The data does not have repetitive columns\n",
    "- The data is fully categorical with even the final target variable is also in form of a category"
   ]
  },
  {
   "cell_type": "markdown",
   "id": "dd395eed",
   "metadata": {},
   "source": [
    "#  Data Analysis:"
   ]
  },
  {
   "cell_type": "code",
   "execution_count": 3,
   "id": "1eac2fa2",
   "metadata": {
    "scrolled": true
   },
   "outputs": [
    {
     "data": {
      "text/plain": [
       "<AxesSubplot:xlabel='decision', ylabel='count'>"
      ]
     },
     "execution_count": 3,
     "metadata": {},
     "output_type": "execute_result"
    },
    {
     "data": {
      "image/png": "[encoded data removed]",
      "text/plain": [
       "<Figure size 432x288 with 1 Axes>"
      ]
     },
     "metadata": {
      "needs_background": "light"
     },
     "output_type": "display_data"
    }
   ],
   "source": [
    "sns.countplot(x=dataset['decision'])"
   ]
  },
  {
   "cell_type": "markdown",
   "id": "1ce01b8b",
   "metadata": {},
   "source": [
    "From the above graph it can be seen that target column is unbalanced with larger values of 'unacceptable'.Hence it is a unbalanced multiclass problem."
   ]
  },
  {
   "cell_type": "markdown",
   "id": "249e3ec6",
   "metadata": {},
   "source": [
    "Below graphs are showing how classes are distributed in each of the feature of our data."
   ]
  },
  {
   "cell_type": "code",
   "execution_count": 4,
   "id": "b357e272",
   "metadata": {
    "scrolled": false
   },
   "outputs": [
    {
     "data": {
      "image/png": "[encoded data removed]",
      "text/plain": [
       "<Figure size 864x432 with 1 Axes>"
      ]
     },
     "metadata": {
      "needs_background": "light"
     },
     "output_type": "display_data"
    },
    {
     "data": {
      "image/png": "[encoded data removed]",
      "text/plain": [
       "<Figure size 864x432 with 1 Axes>"
      ]
     },
     "metadata": {
      "needs_background": "light"
     },
     "output_type": "display_data"
    },
    {
     "data": {
      "image/png": "[encoded data removed]",
      "text/plain": [
       "<Figure size 864x432 with 1 Axes>"
      ]
     },
     "metadata": {
      "needs_background": "light"
     },
     "output_type": "display_data"
    },
    {
     "data": {
      "image/png": "[encoded data removed]",
      "text/plain": [
       "<Figure size 864x432 with 1 Axes>"
      ]
     },
     "metadata": {
      "needs_background": "light"
     },
     "output_type": "display_data"
    },
    {
     "data": {
      "image/png": "[encoded data removed]",
      "text/plain": [
       "<Figure size 864x432 with 1 Axes>"
      ]
     },
     "metadata": {
      "needs_background": "light"
     },
     "output_type": "display_data"
    },
    {
     "data": {
      "image/png": "[encoded data removed]",
      "text/plain": [
       "<Figure size 864x432 with 1 Axes>"
      ]
     },
     "metadata": {
      "needs_background": "light"
     },
     "output_type": "display_data"
    }
   ],
   "source": [
    "for i in dataset.columns[:-1]:\n",
    "    plt.figure(figsize=(12,6))\n",
    "    plt.title(\"For feature '%s'\"%i)\n",
    "    sns.countplot(x=dataset[i],hue=dataset['decision'])"
   ]
  },
  {
   "cell_type": "markdown",
   "id": "5fc443c8",
   "metadata": {},
   "source": [
    "#  Preprocessing:"
   ]
  },
  {
   "cell_type": "code",
   "execution_count": 5,
   "id": "8ffe9e3a",
   "metadata": {},
   "outputs": [],
   "source": [
    "X = dataset.drop(\"decision\", axis=1)\n",
    "y = dataset.decision"
   ]
  },
  {
   "cell_type": "markdown",
   "id": "e0a2c9dd",
   "metadata": {},
   "source": [
    "#### I have used one hot encoding to convert categorical values into numeric."
   ]
  },
  {
   "cell_type": "code",
   "execution_count": 6,
   "id": "9965de80",
   "metadata": {},
   "outputs": [
    {
     "data": {
      "text/html": [
       "<div>\n",
       "<style scoped>\n",
       "    .dataframe tbody tr th:only-of-type {\n",
       "        vertical-align: middle;\n",
       "    }\n",
       "\n",
       "    .dataframe tbody tr th {\n",
       "        vertical-align: top;\n",
       "    }\n",
       "\n",
       "    .dataframe thead th {\n",
       "        text-align: right;\n",
       "    }\n",
       "</style>\n",
       "<table border=\"1\" class=\"dataframe\">\n",
       "  <thead>\n",
       "    <tr style=\"text-align: right;\">\n",
       "      <th></th>\n",
       "      <th>buying price_high</th>\n",
       "      <th>buying price_low</th>\n",
       "      <th>buying price_med</th>\n",
       "      <th>buying price_vhigh</th>\n",
       "      <th>maintenance cost_high</th>\n",
       "      <th>maintenance cost_low</th>\n",
       "      <th>maintenance cost_med</th>\n",
       "      <th>maintenance cost_vhigh</th>\n",
       "      <th>number of doors_2</th>\n",
       "      <th>number of doors_3</th>\n",
       "      <th>...</th>\n",
       "      <th>number of doors_5more</th>\n",
       "      <th>number of persons_2</th>\n",
       "      <th>number of persons_4</th>\n",
       "      <th>number of persons_more</th>\n",
       "      <th>lug_boot_big</th>\n",
       "      <th>lug_boot_med</th>\n",
       "      <th>lug_boot_small</th>\n",
       "      <th>safety_high</th>\n",
       "      <th>safety_low</th>\n",
       "      <th>safety_med</th>\n",
       "    </tr>\n",
       "  </thead>\n",
       "  <tbody>\n",
       "    <tr>\n",
       "      <th>0</th>\n",
       "      <td>0</td>\n",
       "      <td>0</td>\n",
       "      <td>0</td>\n",
       "      <td>1</td>\n",
       "      <td>0</td>\n",
       "      <td>0</td>\n",
       "      <td>0</td>\n",
       "      <td>1</td>\n",
       "      <td>1</td>\n",
       "      <td>0</td>\n",
       "      <td>...</td>\n",
       "      <td>0</td>\n",
       "      <td>1</td>\n",
       "      <td>0</td>\n",
       "      <td>0</td>\n",
       "      <td>0</td>\n",
       "      <td>0</td>\n",
       "      <td>1</td>\n",
       "      <td>0</td>\n",
       "      <td>1</td>\n",
       "      <td>0</td>\n",
       "    </tr>\n",
       "    <tr>\n",
       "      <th>1</th>\n",
       "      <td>0</td>\n",
       "      <td>0</td>\n",
       "      <td>0</td>\n",
       "      <td>1</td>\n",
       "      <td>0</td>\n",
       "      <td>0</td>\n",
       "      <td>0</td>\n",
       "      <td>1</td>\n",
       "      <td>1</td>\n",
       "      <td>0</td>\n",
       "      <td>...</td>\n",
       "      <td>0</td>\n",
       "      <td>1</td>\n",
       "      <td>0</td>\n",
       "      <td>0</td>\n",
       "      <td>0</td>\n",
       "      <td>0</td>\n",
       "      <td>1</td>\n",
       "      <td>0</td>\n",
       "      <td>0</td>\n",
       "      <td>1</td>\n",
       "    </tr>\n",
       "    <tr>\n",
       "      <th>2</th>\n",
       "      <td>0</td>\n",
       "      <td>0</td>\n",
       "      <td>0</td>\n",
       "      <td>1</td>\n",
       "      <td>0</td>\n",
       "      <td>0</td>\n",
       "      <td>0</td>\n",
       "      <td>1</td>\n",
       "      <td>1</td>\n",
       "      <td>0</td>\n",
       "      <td>...</td>\n",
       "      <td>0</td>\n",
       "      <td>1</td>\n",
       "      <td>0</td>\n",
       "      <td>0</td>\n",
       "      <td>0</td>\n",
       "      <td>0</td>\n",
       "      <td>1</td>\n",
       "      <td>1</td>\n",
       "      <td>0</td>\n",
       "      <td>0</td>\n",
       "    </tr>\n",
       "    <tr>\n",
       "      <th>3</th>\n",
       "      <td>0</td>\n",
       "      <td>0</td>\n",
       "      <td>0</td>\n",
       "      <td>1</td>\n",
       "      <td>0</td>\n",
       "      <td>0</td>\n",
       "      <td>0</td>\n",
       "      <td>1</td>\n",
       "      <td>1</td>\n",
       "      <td>0</td>\n",
       "      <td>...</td>\n",
       "      <td>0</td>\n",
       "      <td>1</td>\n",
       "      <td>0</td>\n",
       "      <td>0</td>\n",
       "      <td>0</td>\n",
       "      <td>1</td>\n",
       "      <td>0</td>\n",
       "      <td>0</td>\n",
       "      <td>1</td>\n",
       "      <td>0</td>\n",
       "    </tr>\n",
       "    <tr>\n",
       "      <th>4</th>\n",
       "      <td>0</td>\n",
       "      <td>0</td>\n",
       "      <td>0</td>\n",
       "      <td>1</td>\n",
       "      <td>0</td>\n",
       "      <td>0</td>\n",
       "      <td>0</td>\n",
       "      <td>1</td>\n",
       "      <td>1</td>\n",
       "      <td>0</td>\n",
       "      <td>...</td>\n",
       "      <td>0</td>\n",
       "      <td>1</td>\n",
       "      <td>0</td>\n",
       "      <td>0</td>\n",
       "      <td>0</td>\n",
       "      <td>1</td>\n",
       "      <td>0</td>\n",
       "      <td>0</td>\n",
       "      <td>0</td>\n",
       "      <td>1</td>\n",
       "    </tr>\n",
       "  </tbody>\n",
       "</table>\n",
       "<p>5 rows × 21 columns</p>\n",
       "</div>"
      ],
      "text/plain": [
       "   buying price_high  buying price_low  buying price_med  buying price_vhigh  \\\n",
       "0                  0                 0                 0                   1   \n",
       "1                  0                 0                 0                   1   \n",
       "2                  0                 0                 0                   1   \n",
       "3                  0                 0                 0                   1   \n",
       "4                  0                 0                 0                   1   \n",
       "\n",
       "   maintenance cost_high  maintenance cost_low  maintenance cost_med  \\\n",
       "0                      0                     0                     0   \n",
       "1                      0                     0                     0   \n",
       "2                      0                     0                     0   \n",
       "3                      0                     0                     0   \n",
       "4                      0                     0                     0   \n",
       "\n",
       "   maintenance cost_vhigh  number of doors_2  number of doors_3  ...  \\\n",
       "0                       1                  1                  0  ...   \n",
       "1                       1                  1                  0  ...   \n",
       "2                       1                  1                  0  ...   \n",
       "3                       1                  1                  0  ...   \n",
       "4                       1                  1                  0  ...   \n",
       "\n",
       "   number of doors_5more  number of persons_2  number of persons_4  \\\n",
       "0                      0                    1                    0   \n",
       "1                      0                    1                    0   \n",
       "2                      0                    1                    0   \n",
       "3                      0                    1                    0   \n",
       "4                      0                    1                    0   \n",
       "\n",
       "   number of persons_more  lug_boot_big  lug_boot_med  lug_boot_small  \\\n",
       "0                       0             0             0               1   \n",
       "1                       0             0             0               1   \n",
       "2                       0             0             0               1   \n",
       "3                       0             0             1               0   \n",
       "4                       0             0             1               0   \n",
       "\n",
       "   safety_high  safety_low  safety_med  \n",
       "0            0           1           0  \n",
       "1            0           0           1  \n",
       "2            1           0           0  \n",
       "3            0           1           0  \n",
       "4            0           0           1  \n",
       "\n",
       "[5 rows x 21 columns]"
      ]
     },
     "execution_count": 6,
     "metadata": {},
     "output_type": "execute_result"
    }
   ],
   "source": [
    "X = pd.get_dummies(X)\n",
    "X.head()"
   ]
  },
  {
   "cell_type": "code",
   "execution_count": 7,
   "id": "7743d9e9",
   "metadata": {},
   "outputs": [
    {
     "data": {
      "text/plain": [
       "0    1210\n",
       "1     384\n",
       "2      69\n",
       "3      65\n",
       "Name: decision, dtype: int64"
      ]
     },
     "execution_count": 7,
     "metadata": {},
     "output_type": "execute_result"
    }
   ],
   "source": [
    "y = y.replace(\n",
    "    {\n",
    "        \"unacc\" : 0,\n",
    "        \"acc\" : 1,\n",
    "        \"good\" : 2,\n",
    "        \"vgood\" : 3\n",
    "    }\n",
    ")\n",
    "y.value_counts()"
   ]
  },
  {
   "cell_type": "markdown",
   "id": "7f14bdf1",
   "metadata": {},
   "source": [
    "#### Train-Test Split"
   ]
  },
  {
   "cell_type": "code",
   "execution_count": 8,
   "id": "a419a5a5",
   "metadata": {},
   "outputs": [],
   "source": [
    "from sklearn.model_selection import train_test_split\n",
    "X_train, X_test, y_train, y_test = train_test_split(X, y, test_size = 0.2, random_state = 1)"
   ]
  },
  {
   "cell_type": "markdown",
   "id": "f067b568",
   "metadata": {},
   "source": [
    "# Model Building:"
   ]
  },
  {
   "cell_type": "markdown",
   "id": "613bc671",
   "metadata": {},
   "source": [
    "# 1) Decision Tree"
   ]
  },
  {
   "cell_type": "code",
   "execution_count": 9,
   "id": "6d9958c8",
   "metadata": {},
   "outputs": [],
   "source": [
    "from sklearn.tree import DecisionTreeClassifier"
   ]
  },
  {
   "cell_type": "markdown",
   "id": "10de1b75",
   "metadata": {},
   "source": [
    "### Training with default hyperparameter"
   ]
  },
  {
   "cell_type": "code",
   "execution_count": 10,
   "id": "f511fbf6",
   "metadata": {},
   "outputs": [
    {
     "name": "stdout",
     "output_type": "stream",
     "text": [
      "0.976878612716763\n"
     ]
    }
   ],
   "source": [
    "dtc=DecisionTreeClassifier()\n",
    "dtc.fit(X_train,y_train)\n",
    "print(dtc.score(X_test,y_test))"
   ]
  },
  {
   "cell_type": "code",
   "execution_count": 11,
   "id": "699e5566",
   "metadata": {},
   "outputs": [
    {
     "name": "stdout",
     "output_type": "stream",
     "text": [
      "K-fold Cross validation score is:  0.8455269525473854\n"
     ]
    }
   ],
   "source": [
    "print(\"K-fold Cross validation score is: \",cross_val_score(estimator = dtc, X = X, y = y, cv = 10).mean())"
   ]
  },
  {
   "cell_type": "markdown",
   "id": "3b057472",
   "metadata": {},
   "source": [
    "### Hyperparamter tunning"
   ]
  },
  {
   "cell_type": "markdown",
   "id": "6002a8f9",
   "metadata": {},
   "source": [
    "#### Since the dataset is small i have used gridsearch for parameter tunning.It searches over all the given parameters and gives best out of it."
   ]
  },
  {
   "cell_type": "code",
   "execution_count": 12,
   "id": "09525c56",
   "metadata": {},
   "outputs": [],
   "source": [
    "para_grid_dtc={\"criterion\":['gini','entropy'],\n",
    "           \"max_depth\":range(1,20),\n",
    "           \"min_samples_split\":range(1,10),\n",
    "           \"min_samples_leaf\":range(1,5)}"
   ]
  },
  {
   "cell_type": "code",
   "execution_count": 13,
   "id": "4a1799e5",
   "metadata": {},
   "outputs": [
    {
     "name": "stderr",
     "output_type": "stream",
     "text": [
      "C:\\Users\\Hp\\anaconda3\\lib\\site-packages\\sklearn\\model_selection\\_search.py:922: UserWarning: One or more of the test scores are non-finite: [       nan 0.68741529 0.68741529 ... 0.95877906 0.95805443 0.95877906]\n",
      "  warnings.warn(\n"
     ]
    },
    {
     "data": {
      "text/plain": [
       "GridSearchCV(cv=10, estimator=DecisionTreeClassifier(), n_jobs=-1,\n",
       "             param_grid={'criterion': ['gini', 'entropy'],\n",
       "                         'max_depth': range(1, 20),\n",
       "                         'min_samples_leaf': range(1, 5),\n",
       "                         'min_samples_split': range(1, 10)})"
      ]
     },
     "execution_count": 13,
     "metadata": {},
     "output_type": "execute_result"
    }
   ],
   "source": [
    "grid=GridSearchCV(estimator=dtc,param_grid=para_grid_dtc,cv=10,n_jobs=-1)\n",
    "grid.fit(X_train,y_train)"
   ]
  },
  {
   "cell_type": "code",
   "execution_count": 14,
   "id": "a2e90262",
   "metadata": {},
   "outputs": [
    {
     "name": "stdout",
     "output_type": "stream",
     "text": [
      "{'criterion': 'entropy', 'max_depth': 12, 'min_samples_leaf': 1, 'min_samples_split': 2}\n",
      "0.9761286622875615\n"
     ]
    }
   ],
   "source": [
    "print(grid.best_params_)\n",
    "print(grid.best_score_)"
   ]
  },
  {
   "cell_type": "markdown",
   "id": "e7d1063b",
   "metadata": {},
   "source": [
    "### Final Model:"
   ]
  },
  {
   "cell_type": "code",
   "execution_count": 15,
   "id": "101d450a",
   "metadata": {},
   "outputs": [],
   "source": [
    "dtc_final=DecisionTreeClassifier(criterion= str(grid.best_params_['criterion']), max_depth=grid.best_params_['max_depth'],\n",
    "                                 min_samples_leaf= grid.best_params_['min_samples_leaf'],\n",
    "                                 min_samples_split= grid.best_params_['min_samples_split'])"
   ]
  },
  {
   "cell_type": "markdown",
   "id": "2a6fe6a6",
   "metadata": {},
   "source": [
    "# 2) Random Forest"
   ]
  },
  {
   "cell_type": "code",
   "execution_count": 16,
   "id": "8cf8e007",
   "metadata": {},
   "outputs": [],
   "source": [
    "from sklearn.ensemble import RandomForestClassifier"
   ]
  },
  {
   "cell_type": "markdown",
   "id": "1d948df6",
   "metadata": {},
   "source": [
    "### Training with default hyperparameter"
   ]
  },
  {
   "cell_type": "code",
   "execution_count": 17,
   "id": "9bc77e75",
   "metadata": {},
   "outputs": [
    {
     "name": "stdout",
     "output_type": "stream",
     "text": [
      "0.9479768786127167\n"
     ]
    }
   ],
   "source": [
    "rfc=RandomForestClassifier()\n",
    "rfc.fit(X_train,y_train)\n",
    "print(rfc.score(X_test,y_test))"
   ]
  },
  {
   "cell_type": "code",
   "execution_count": 18,
   "id": "ec78bb3f",
   "metadata": {},
   "outputs": [
    {
     "name": "stdout",
     "output_type": "stream",
     "text": [
      "K-fold crossvalidation score is:  0.8443944078505176\n"
     ]
    }
   ],
   "source": [
    "print('K-fold crossvalidation score is: ',cross_val_score(estimator = rfc, X = X, y = y, cv = 10).mean())"
   ]
  },
  {
   "cell_type": "markdown",
   "id": "56bf6d98",
   "metadata": {},
   "source": [
    "### Hyperparameter Tunning"
   ]
  },
  {
   "cell_type": "code",
   "execution_count": 19,
   "id": "7e1ecd46",
   "metadata": {},
   "outputs": [],
   "source": [
    "param_grid={'criterion':['gini','entropy'],\n",
    "           'max_depth':[2,5,10,20],\n",
    "           'max_features':[2,4,6,'auto'],\n",
    "           'max_leaf_nodes':[2,3,None],}"
   ]
  },
  {
   "cell_type": "code",
   "execution_count": 20,
   "id": "f392b4c1",
   "metadata": {},
   "outputs": [],
   "source": [
    "grid=GridSearchCV(estimator=RandomForestClassifier(n_estimators=50,n_jobs=-1,random_state=51),\n",
    "                  param_grid=param_grid,cv=10,n_jobs=-1)"
   ]
  },
  {
   "cell_type": "code",
   "execution_count": 21,
   "id": "487dc525",
   "metadata": {},
   "outputs": [
    {
     "data": {
      "text/plain": [
       "GridSearchCV(cv=10,\n",
       "             estimator=RandomForestClassifier(n_estimators=50, n_jobs=-1,\n",
       "                                              random_state=51),\n",
       "             n_jobs=-1,\n",
       "             param_grid={'criterion': ['gini', 'entropy'],\n",
       "                         'max_depth': [2, 5, 10, 20],\n",
       "                         'max_features': [2, 4, 6, 'auto'],\n",
       "                         'max_leaf_nodes': [2, 3, None]})"
      ]
     },
     "execution_count": 21,
     "metadata": {},
     "output_type": "execute_result"
    }
   ],
   "source": [
    "grid.fit(X_train,y_train)"
   ]
  },
  {
   "cell_type": "code",
   "execution_count": 22,
   "id": "c11a2c86",
   "metadata": {},
   "outputs": [
    {
     "name": "stdout",
     "output_type": "stream",
     "text": [
      "{'criterion': 'entropy', 'max_depth': 20, 'max_features': 6, 'max_leaf_nodes': None}\n",
      "0.969596496715671\n"
     ]
    }
   ],
   "source": [
    "print(grid.best_params_)\n",
    "print(grid.best_score_)"
   ]
  },
  {
   "cell_type": "markdown",
   "id": "26a7655b",
   "metadata": {},
   "source": [
    "### Final Model:"
   ]
  },
  {
   "cell_type": "code",
   "execution_count": 23,
   "id": "0e538057",
   "metadata": {},
   "outputs": [],
   "source": [
    "rfc_final=RandomForestClassifier(n_estimators=50,n_jobs=-1,random_state=51,criterion= str(grid.best_params_['criterion']),\n",
    "                                 max_depth=grid.best_params_['max_depth'] , max_features= grid.best_params_['max_features'],\n",
    "                                 max_leaf_nodes= grid.best_params_['max_leaf_nodes'])"
   ]
  },
  {
   "cell_type": "markdown",
   "id": "75d4437a",
   "metadata": {},
   "source": [
    "# 3) KNN"
   ]
  },
  {
   "cell_type": "code",
   "execution_count": 24,
   "id": "254b9704",
   "metadata": {},
   "outputs": [],
   "source": [
    "from sklearn.neighbors import KNeighborsClassifier"
   ]
  },
  {
   "cell_type": "markdown",
   "id": "4491e524",
   "metadata": {},
   "source": [
    "### Training with default parameter"
   ]
  },
  {
   "cell_type": "code",
   "execution_count": 25,
   "id": "244f642b",
   "metadata": {},
   "outputs": [
    {
     "name": "stdout",
     "output_type": "stream",
     "text": [
      "0.8988439306358381\n"
     ]
    }
   ],
   "source": [
    "knn=KNeighborsClassifier(n_jobs=-1)\n",
    "knn.fit(X_train,y_train)\n",
    "print(knn.score(X_test,y_test))"
   ]
  },
  {
   "cell_type": "code",
   "execution_count": 26,
   "id": "4a85a5e4",
   "metadata": {},
   "outputs": [
    {
     "name": "stdout",
     "output_type": "stream",
     "text": [
      "K-fold cross validation score is:  0.7379788950127705\n"
     ]
    }
   ],
   "source": [
    "print('K-fold cross validation score is: ',cross_val_score(estimator = knn, X = X, y = y, cv = 10).mean())"
   ]
  },
  {
   "cell_type": "markdown",
   "id": "97d2587e",
   "metadata": {},
   "source": [
    "### Hyperparameter Tunning"
   ]
  },
  {
   "cell_type": "code",
   "execution_count": 27,
   "id": "43211a52",
   "metadata": {},
   "outputs": [],
   "source": [
    "k_range = list(range(1, 31))\n",
    "para_grid_knn = dict(n_neighbors=k_range)"
   ]
  },
  {
   "cell_type": "code",
   "execution_count": 28,
   "id": "29a476d9",
   "metadata": {},
   "outputs": [
    {
     "data": {
      "text/plain": [
       "GridSearchCV(cv=10, estimator=KNeighborsClassifier(n_jobs=-1), n_jobs=-1,\n",
       "             param_grid={'n_neighbors': [1, 2, 3, 4, 5, 6, 7, 8, 9, 10, 11, 12,\n",
       "                                         13, 14, 15, 16, 17, 18, 19, 20, 21, 22,\n",
       "                                         23, 24, 25, 26, 27, 28, 29, 30]})"
      ]
     },
     "execution_count": 28,
     "metadata": {},
     "output_type": "execute_result"
    }
   ],
   "source": [
    "grid=GridSearchCV(estimator=knn,param_grid=para_grid_knn,cv=10,n_jobs=-1)\n",
    "grid.fit(X_train,y_train)"
   ]
  },
  {
   "cell_type": "code",
   "execution_count": 29,
   "id": "9a0a4513",
   "metadata": {},
   "outputs": [
    {
     "name": "stdout",
     "output_type": "stream",
     "text": [
      "{'n_neighbors': 11}\n",
      "0.9073923469919716\n"
     ]
    }
   ],
   "source": [
    "print(grid.best_params_)\n",
    "print(grid.best_score_)"
   ]
  },
  {
   "cell_type": "markdown",
   "id": "fc4b64ce",
   "metadata": {},
   "source": [
    "### Final Model:"
   ]
  },
  {
   "cell_type": "code",
   "execution_count": 30,
   "id": "b8d7dbb2",
   "metadata": {},
   "outputs": [],
   "source": [
    "knn_final=KNeighborsClassifier(n_neighbors= grid.best_params_['n_neighbors'],n_jobs=-1)"
   ]
  },
  {
   "cell_type": "markdown",
   "id": "78d949ee",
   "metadata": {},
   "source": [
    "# 4) Naive bayes"
   ]
  },
  {
   "cell_type": "code",
   "execution_count": 31,
   "id": "29b31a20",
   "metadata": {},
   "outputs": [],
   "source": [
    "from sklearn.naive_bayes import GaussianNB"
   ]
  },
  {
   "cell_type": "markdown",
   "id": "c82fc424",
   "metadata": {},
   "source": [
    "### Training with default parameter"
   ]
  },
  {
   "cell_type": "code",
   "execution_count": 32,
   "id": "70c10a8b",
   "metadata": {},
   "outputs": [
    {
     "name": "stdout",
     "output_type": "stream",
     "text": [
      "0.838150289017341\n"
     ]
    }
   ],
   "source": [
    "nbc=GaussianNB()\n",
    "nbc.fit(X_train,y_train)\n",
    "print(nbc.score(X_test,y_test))"
   ]
  },
  {
   "cell_type": "code",
   "execution_count": 33,
   "id": "2e3f71dc",
   "metadata": {},
   "outputs": [
    {
     "name": "stdout",
     "output_type": "stream",
     "text": [
      "K-fold Cross validation score is:  0.8027624680736658\n"
     ]
    }
   ],
   "source": [
    "print(\"K-fold Cross validation score is: \",cross_val_score(estimator = nbc, X = X, y = y, cv = 10).mean())"
   ]
  },
  {
   "cell_type": "markdown",
   "id": "d5bbdca2",
   "metadata": {},
   "source": [
    "### Hyperparameter tunning"
   ]
  },
  {
   "cell_type": "code",
   "execution_count": 34,
   "id": "6bdb8612",
   "metadata": {},
   "outputs": [],
   "source": [
    "para_grid_nbc = {\n",
    "    'var_smoothing': np.logspace(0,-9, num=100)\n",
    "}"
   ]
  },
  {
   "cell_type": "code",
   "execution_count": 35,
   "id": "1c4c2ea6",
   "metadata": {},
   "outputs": [
    {
     "data": {
      "text/plain": [
       "GridSearchCV(cv=10, estimator=GaussianNB(), n_jobs=-1,\n",
       "             param_grid={'var_smoothing': array([1.00000000e+00, 8.11130831e-01, 6.57933225e-01, 5.33669923e-01,\n",
       "       4.32876128e-01, 3.51119173e-01, 2.84803587e-01, 2.31012970e-01,\n",
       "       1.87381742e-01, 1.51991108e-01, 1.23284674e-01, 1.00000000e-01,\n",
       "       8.11130831e-02, 6.57933225e-02, 5.33669923e-02, 4.32876128e-02,\n",
       "       3.51119173e-02, 2.848035...\n",
       "       1.23284674e-07, 1.00000000e-07, 8.11130831e-08, 6.57933225e-08,\n",
       "       5.33669923e-08, 4.32876128e-08, 3.51119173e-08, 2.84803587e-08,\n",
       "       2.31012970e-08, 1.87381742e-08, 1.51991108e-08, 1.23284674e-08,\n",
       "       1.00000000e-08, 8.11130831e-09, 6.57933225e-09, 5.33669923e-09,\n",
       "       4.32876128e-09, 3.51119173e-09, 2.84803587e-09, 2.31012970e-09,\n",
       "       1.87381742e-09, 1.51991108e-09, 1.23284674e-09, 1.00000000e-09])})"
      ]
     },
     "execution_count": 35,
     "metadata": {},
     "output_type": "execute_result"
    }
   ],
   "source": [
    "grid=GridSearchCV(estimator=nbc,param_grid=para_grid_nbc,cv=10,n_jobs=-1)\n",
    "grid.fit(X_train,y_train)"
   ]
  },
  {
   "cell_type": "code",
   "execution_count": 36,
   "id": "a367aa73",
   "metadata": {},
   "outputs": [
    {
     "name": "stdout",
     "output_type": "stream",
     "text": [
      "{'var_smoothing': 1.0}\n",
      "0.8769575643832761\n"
     ]
    }
   ],
   "source": [
    "print(grid.best_params_)\n",
    "print(grid.best_score_)"
   ]
  },
  {
   "cell_type": "markdown",
   "id": "af2f3de7",
   "metadata": {},
   "source": [
    "### Final model:"
   ]
  },
  {
   "cell_type": "code",
   "execution_count": 37,
   "id": "21aaaafa",
   "metadata": {},
   "outputs": [],
   "source": [
    "nbc_final=GaussianNB(var_smoothing= grid.best_params_['var_smoothing'] )"
   ]
  },
  {
   "cell_type": "markdown",
   "id": "0c979b3b",
   "metadata": {},
   "source": [
    "# Model Comparison"
   ]
  },
  {
   "cell_type": "code",
   "execution_count": 38,
   "id": "10503e8e",
   "metadata": {},
   "outputs": [],
   "source": [
    "models=[rfc_final,dtc_final,knn_final,nbc_final]\n",
    "row_num = 0\n",
    "model_compare = pd.DataFrame()"
   ]
  },
  {
   "cell_type": "code",
   "execution_count": 39,
   "id": "83b71a8c",
   "metadata": {},
   "outputs": [],
   "source": [
    "for classifier in models:\n",
    "    \n",
    "    classifier.fit(X_train, y_train) \n",
    "    classifier_accuracy_score = classifier.score(X_test,y_test)\n",
    "    kfold_accuracy = cross_val_score(estimator = classifier, X = X, y = y, cv = 10)\n",
    "    model_name = classifier.__class__.__name__\n",
    "    model_compare.loc[row_num, 'Classifier Name'] = model_name\n",
    "    model_compare.loc[row_num, 'Accuracy Score'] = classifier_accuracy_score*100\n",
    "    model_compare.loc[row_num, 'K-Fold Accuracy'] = kfold_accuracy.mean()*100\n",
    "    row_num+=1"
   ]
  },
  {
   "cell_type": "code",
   "execution_count": 40,
   "id": "19dfbd8a",
   "metadata": {},
   "outputs": [
    {
     "data": {
      "text/html": [
       "<div>\n",
       "<style scoped>\n",
       "    .dataframe tbody tr th:only-of-type {\n",
       "        vertical-align: middle;\n",
       "    }\n",
       "\n",
       "    .dataframe tbody tr th {\n",
       "        vertical-align: top;\n",
       "    }\n",
       "\n",
       "    .dataframe thead th {\n",
       "        text-align: right;\n",
       "    }\n",
       "</style>\n",
       "<table border=\"1\" class=\"dataframe\">\n",
       "  <thead>\n",
       "    <tr style=\"text-align: right;\">\n",
       "      <th></th>\n",
       "      <th>Classifier Name</th>\n",
       "      <th>Accuracy Score</th>\n",
       "      <th>K-Fold Accuracy</th>\n",
       "    </tr>\n",
       "  </thead>\n",
       "  <tbody>\n",
       "    <tr>\n",
       "      <th>0</th>\n",
       "      <td>RandomForestClassifier</td>\n",
       "      <td>95.375723</td>\n",
       "      <td>85.478895</td>\n",
       "    </tr>\n",
       "    <tr>\n",
       "      <th>1</th>\n",
       "      <td>DecisionTreeClassifier</td>\n",
       "      <td>95.953757</td>\n",
       "      <td>84.206883</td>\n",
       "    </tr>\n",
       "    <tr>\n",
       "      <th>2</th>\n",
       "      <td>GaussianNB</td>\n",
       "      <td>90.462428</td>\n",
       "      <td>76.222947</td>\n",
       "    </tr>\n",
       "    <tr>\n",
       "      <th>3</th>\n",
       "      <td>KNeighborsClassifier</td>\n",
       "      <td>91.907514</td>\n",
       "      <td>75.185173</td>\n",
       "    </tr>\n",
       "  </tbody>\n",
       "</table>\n",
       "</div>"
      ],
      "text/plain": [
       "          Classifier Name  Accuracy Score  K-Fold Accuracy\n",
       "0  RandomForestClassifier       95.375723        85.478895\n",
       "1  DecisionTreeClassifier       95.953757        84.206883\n",
       "2              GaussianNB       90.462428        76.222947\n",
       "3    KNeighborsClassifier       91.907514        75.185173"
      ]
     },
     "execution_count": 40,
     "metadata": {},
     "output_type": "execute_result"
    }
   ],
   "source": [
    "model_compare = model_compare.sort_values(by=\"K-Fold Accuracy\", ascending=False).reset_index(drop=True) \n",
    "model_compare"
   ]
  }
 ],
 "metadata": {
  "kernelspec": {
   "display_name": "Python 3 (ipykernel)",
   "language": "python",
   "name": "python3"
  },
  "language_info": {
   "codemirror_mode": {
    "name": "ipython",
    "version": 3
   },
   "file_extension": ".py",
   "mimetype": "text/x-python",
   "name": "python",
   "nbconvert_exporter": "python",
   "pygments_lexer": "ipython3",
   "version": "3.9.7"
  }
 },
 "nbformat": 4,
 "nbformat_minor": 5
}
